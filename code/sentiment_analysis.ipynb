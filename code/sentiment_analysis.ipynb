{
 "cells": [
  {
   "cell_type": "markdown",
   "id": "674db681",
   "metadata": {},
   "source": [
    "# Employee Sentiment Analysis\n",
    "\n",
    "This project analyzes internal communications to assess employee sentiment and engagement. It includes sentiment classification, exploratory analysis, monthly scoring, employee ranking, flight risk identification, and trend modeling using regression."
   ]
  },
  {
   "cell_type": "markdown",
   "id": "acc61dd4",
   "metadata": {},
   "source": [
    "## 1. Sentiment Labeling\n",
    "\n",
    "We used the TextBlob library to determine the sentiment polarity of each message.\n",
    "\n",
    "**Polarity Thresholds:**\n",
    "- Positive: `polarity ≥ 0.1`\n",
    "- Negative: `polarity ≤ -0.1`\n",
    "- Neutral: between -0.1 and 0.1\n",
    "\n",
    "A new column named `sentiment` was added to the dataset to store these labels."
   ]
  },
  {
   "cell_type": "code",
   "execution_count": null,
   "id": "122854c1",
   "metadata": {},
   "outputs": [],
   "source": [
    "# Import required libraries\n",
    "from textblob import TextBlob\n",
    "import pandas as pd\n",
    "\n",
    "# Load the dataset containing employee messages\n",
    "df = pd.read_csv(\"data/test.csv\")\n",
    "\n",
    "# Define a function to classify sentiment based on polarity score\n",
    "def label_sentiment(text):\n",
    "    if pd.isnull(text):\n",
    "        return \"Neutral\"  # Treat missing messages as neutral\n",
    "    polarity = TextBlob(text).sentiment.polarity\n",
    "    if polarity >= 0.1:\n",
    "        return \"Positive\"\n",
    "    elif polarity <= -0.1:\n",
    "        return \"Negative\"\n",
    "    else:\n",
    "        return \"Neutral\"\n",
    "\n",
    "# Apply the function to each message in the 'body' column\n",
    "df['sentiment'] = df['body'].apply(label_sentiment)\n",
    "\n",
    "# Save the labeled dataset\n",
    "df.to_csv(\"data/labeled_test.csv\", index=False)"
   ]
  },
  {
   "cell_type": "markdown",
   "id": "7edecd0e",
   "metadata": {},
   "source": [
    "## 2. Exploratory Data Analysis (EDA)\n",
    "\n",
    "This section summarizes the dataset’s structure and initial findings.\n",
    "\n",
    "**Highlights:**\n",
    "- Number of messages: *[insert count]*\n",
    "- Missing values in key fields: *[mention if any]*\n",
    "- Distribution of sentiment labels\n",
    "- Message volume trend over time (monthly)\n",
    "\n",
    "Visualizations:\n",
    "- Sentiment distribution bar chart\n",
    "- Messages per month"
   ]
  },
  {
   "cell_type": "code",
   "execution_count": null,
   "id": "b5fc4fd6",
   "metadata": {},
   "outputs": [
    {
     "name": "stdout",
     "output_type": "stream",
     "text": [
      "<class 'pandas.core.frame.DataFrame'>\n",
      "RangeIndex: 2191 entries, 0 to 2190\n",
      "Data columns (total 5 columns):\n",
      " #   Column     Non-Null Count  Dtype \n",
      "---  ------     --------------  ----- \n",
      " 0   Subject    2191 non-null   object\n",
      " 1   body       2191 non-null   object\n",
      " 2   date       2191 non-null   object\n",
      " 3   from       2191 non-null   object\n",
      " 4   sentiment  2191 non-null   object\n",
      "dtypes: object(5)\n",
      "memory usage: 85.7+ KB\n",
      "None\n",
      "sentiment\n",
      "Positive    1038\n",
      "Neutral      973\n",
      "Negative     180\n",
      "Name: count, dtype: int64\n"
     ]
    },
    {
     "data": {
      "image/png": "[encoded data removed]",
      "text/plain": [
       "<Figure size 640x480 with 1 Axes>"
      ]
     },
     "metadata": {},
     "output_type": "display_data"
    }
   ],
   "source": [
    "# Import visualization libraries\n",
    "import matplotlib.pyplot as plt\n",
    "import seaborn as sns\n",
    "\n",
    "# Basic data checks\n",
    "df.info()  # View data structure, null counts\n",
    "df['sentiment'].value_counts()  # View sentiment distribution\n",
    "\n",
    "# Plot sentiment label distribution\n",
    "sns.countplot(x='sentiment', data=df)\n",
    "plt.title(\"Sentiment Distribution\")\n",
    "plt.xlabel(\"Sentiment\")\n",
    "plt.ylabel(\"Count\")\n",
    "plt.tight_layout()\n",
    "plt.savefig(\"visualizations/sentiment_distribution.png\")\n",
    "\n",
    "# Convert 'date' column to datetime and extract month\n",
    "df['date'] = pd.to_datetime(df['date'])\n",
    "df['month'] = df['date'].dt.to_period('M')\n",
    "\n",
    "# Plot number of messages per month\n",
    "df['month'].value_counts().sort_index().plot(kind='bar')\n",
    "plt.title(\"Messages per Month\")\n",
    "plt.xlabel(\"Month\")\n",
    "plt.ylabel(\"Number of Messages\")\n",
    "plt.tight_layout()\n",
    "plt.savefig(\"visualizations/messages_by_month.png\")"
   ]
  },
  {
   "cell_type": "markdown",
   "id": "02239911",
   "metadata": {},
   "source": [
    "## 3. Monthly Sentiment Scoring\n",
    "\n",
    "Each message was mapped to a sentiment score:\n",
    "- Positive: +1\n",
    "- Neutral: 0\n",
    "- Negative: –1\n",
    "\n",
    "These were grouped by employee and month to compute a `monthly_score` for each employee. This dataset forms the basis for the ranking and risk tasks."
   ]
  },
  {
   "cell_type": "code",
   "execution_count": null,
   "id": "662e2180",
   "metadata": {},
   "outputs": [],
   "source": [
    "# Map sentiment labels to numeric scores\n",
    "score_map = {'Positive': 1, 'Negative': -1, 'Neutral': 0}\n",
    "df['sentiment_score'] = df['sentiment'].map(score_map)\n",
    "\n",
    "# Group messages by sender and month, and aggregate scores\n",
    "monthly_scores = df.groupby([df['from'], df['month']])['sentiment_score'].sum().reset_index()\n",
    "monthly_scores.rename(columns={'from': 'employee', 'sentiment_score': 'monthly_score'}, inplace=True)\n",
    "\n",
    "# Save the monthly scoring data\n",
    "monthly_scores.to_csv(\"data/monthly_scores.csv\", index=False)"
   ]
  },
  {
   "cell_type": "markdown",
   "id": "9176cfd5",
   "metadata": {},
   "source": [
    "## 4. Employee Ranking\n",
    "\n",
    "We ranked employees monthly based on their sentiment scores.\n",
    "\n",
    "**For each month:**\n",
    "- Top 3 most positive employees (highest scores)\n",
    "- Top 3 most negative employees (lowest scores)\n",
    "\n",
    "Ties were resolved alphabetically. Output is saved as `monthly_rankings.csv`."
   ]
  },
  {
   "cell_type": "code",
   "execution_count": null,
   "id": "8bda2773",
   "metadata": {},
   "outputs": [],
   "source": [
    "# Define a helper function to return top 3 positive and negative employees per group\n",
    "def top_rankings(group):\n",
    "    top_pos = group.sort_values('monthly_score', ascending=False).head(3)\n",
    "    top_neg = group.sort_values('monthly_score').head(3)\n",
    "    return top_pos, top_neg\n",
    "\n",
    "# Apply to each month\n",
    "grouped = monthly_scores.groupby('month')\n",
    "top_positive, top_negative = [], []\n",
    "\n",
    "for month, group in grouped:\n",
    "    top_pos, top_neg = top_rankings(group)\n",
    "    top_pos['rank_type'] = 'Top Positive'\n",
    "    top_neg['rank_type'] = 'Top Negative'\n",
    "    top_positive.append(top_pos)\n",
    "    top_negative.append(top_neg)\n",
    "\n",
    "# Combine and save the result\n",
    "ranking_df = pd.concat(top_positive + top_negative)\n",
    "ranking_df.to_csv(\"data/monthly_rankings.csv\", index=False)"
   ]
  },
  {
   "cell_type": "markdown",
   "id": "6a94e3e0",
   "metadata": {},
   "source": [
    "## 5. Flight Risk Identification\n",
    "\n",
    "An employee is flagged as a potential flight risk if they send **4 or more negative messages within any 30-day rolling window**, regardless of month.\n",
    "\n",
    "**Output:** List of flagged employees saved to `flight_risks.csv`."
   ]
  },
  {
   "cell_type": "code",
   "execution_count": null,
   "id": "1536eeba",
   "metadata": {},
   "outputs": [],
   "source": [
    "# Extract negative messages with sender and date\n",
    "negatives = df[df['sentiment'] == 'Negative'][['from', 'date']]\n",
    "negatives['date'] = pd.to_datetime(negatives['date'])\n",
    "\n",
    "# Flag employees with 4 or more negative messages in any 30-day window\n",
    "risk_employees = []\n",
    "\n",
    "for emp, group in negatives.groupby('from'):\n",
    "    dates = group['date'].sort_values()\n",
    "    for i in range(len(dates) - 3):\n",
    "        # Check if 4 messages occurred within 30 days\n",
    "        if (dates.iloc[i+3] - dates.iloc[i]).days <= 30:\n",
    "            risk_employees.append(emp)\n",
    "            break\n",
    "\n",
    "# Save list of flagged employees\n",
    "risk_df = pd.DataFrame({'employee': list(set(risk_employees))})\n",
    "risk_df.to_csv(\"data/flight_risks.csv\", index=False)"
   ]
  },
  {
   "cell_type": "markdown",
   "id": "e23eebd8",
   "metadata": {},
   "source": [
    "## 6. Predictive Modeling\n",
    "\n",
    "We trained a **linear regression model** to predict sentiment trends over time using `month_num` as a feature.\n",
    "\n",
    "**Evaluation Metrics:**\n",
    "- R² Score: *[insert value]*\n",
    "- Mean Squared Error (MSE): *[insert value]*\n",
    "\n",
    "This helps forecast engagement decline or improvement.\n"
   ]
  },
  {
   "cell_type": "code",
   "execution_count": null,
   "id": "234f828f",
   "metadata": {},
   "outputs": [
    {
     "name": "stdout",
     "output_type": "stream",
     "text": [
      "R² score: 0.5064\n",
      "MSE: 0.1809\n"
     ]
    }
   ],
   "source": [
    "# Import modeling tools\n",
    "from sklearn.linear_model import LinearRegression\n",
    "from sklearn.model_selection import train_test_split\n",
    "from sklearn.metrics import mean_squared_error, r2_score\n",
    "\n",
    "# Convert month periods to numeric format for regression\n",
    "monthly_scores['month_num'] = monthly_scores['month'].astype(str).str.replace('-', '').astype(int)\n",
    "\n",
    "# Compute average score per month\n",
    "monthly_trend = monthly_scores.groupby('month_num')['monthly_score'].mean().reset_index()\n",
    "\n",
    "# Define features and target\n",
    "X = monthly_trend[['month_num']]\n",
    "y = monthly_trend['monthly_score']\n",
    "\n",
    "# Split data into training and test sets\n",
    "X_train, X_test, y_train, y_test = train_test_split(X, y, test_size=0.2, random_state=42)\n",
    "\n",
    "# Train linear regression model\n",
    "model = LinearRegression()\n",
    "model.fit(X_train, y_train)\n",
    "\n",
    "# Evaluate performance\n",
    "y_pred = model.predict(X_test)\n",
    "print(f\"R² Score: {r2_score(y_test, y_pred):.4f}\")\n",
    "print(f\"Mean Squared Error: {mean_squared_error(y_test, y_pred):.4f}\")"
   ]
  },
  {
   "cell_type": "markdown",
   "id": "84aaeb26",
   "metadata": {},
   "source": [
    "## Conclusion\n",
    "\n",
    "This analysis highlights key patterns in employee communication.\n",
    "\n",
    "**Key Insights:**\n",
    "- Overall sentiment trend\n",
    "- Top performing employees\n",
    "- At-risk employees\n",
    "- Model prediction potential\n",
    "\n",
    "Further steps could involve topic modeling or integrating HR performance data."
   ]
  }
 ],
 "metadata": {
  "kernelspec": {
   "display_name": "base",
   "language": "python",
   "name": "python3"
  },
  "language_info": {
   "codemirror_mode": {
    "name": "ipython",
    "version": 3
   },
   "file_extension": ".py",
   "mimetype": "text/x-python",
   "name": "python",
   "nbconvert_exporter": "python",
   "pygments_lexer": "ipython3",
   "version": "3.12.7"
  }
 },
 "nbformat": 4,
 "nbformat_minor": 5
}
